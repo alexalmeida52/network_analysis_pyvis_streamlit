{
  "nbformat": 4,
  "nbformat_minor": 0,
  "metadata": {
    "colab": {
      "provenance": [],
      "collapsed_sections": [
        "5G5eW9VRHdME"
      ]
    },
    "kernelspec": {
      "name": "python3",
      "display_name": "Python 3"
    },
    "language_info": {
      "name": "python"
    }
  },
  "cells": [
    {
      "cell_type": "markdown",
      "source": [
        "# **ANÁLISE DE REDES**\n",
        "## Atividade 01 - Prática com PyVis e Streamlit\n",
        "# **Autores**\n",
        "### José Alex\n",
        "### Fabricio Cruz"
      ],
      "metadata": {
        "id": "exbMqKJ1l-3L"
      }
    },
    {
      "cell_type": "markdown",
      "source": [
        "## **Instalando pyvis**"
      ],
      "metadata": {
        "id": "5G5eW9VRHdME"
      }
    },
    {
      "cell_type": "code",
      "execution_count": null,
      "metadata": {
        "id": "Zxny4wIT-Iz1"
      },
      "outputs": [],
      "source": [
        "!pip install pyvis"
      ]
    },
    {
      "cell_type": "markdown",
      "source": [
        "## **Importando bibliotecas e dataset**\n",
        "### **Sobre o dataset:** O OpenFlights/Airline Route Mapper Route Database mapeou 59.036 rotas entre 3.209 aeroportos em 531 companhias aéreas em todo o mundo em janeiro de 2012. Segue aqui o link do dataset disponível no Kaggle: <https://www.kaggle.com/datasets/open-flights/flight-route-database>\n",
        "### O nosso dataset não é fortemente conectado. Logo, não conseguimos encontrar valores de diâmetro e periferia. Para explorar essas funções vamos usar o dataset **NetworkOfThrones** que é um grafo não direcionado conectado."
      ],
      "metadata": {
        "id": "rpY8tYDQHwEc"
      }
    },
    {
      "cell_type": "code",
      "source": [
        "from pyvis.network import Network\n",
        "import networkx as nx\n",
        "import pandas as pd\n",
        "from IPython.core.display import display, HTML\n",
        "import scipy as sp\n",
        "import matplotlib.pyplot as plt\n",
        "import collections\n",
        "\n",
        "got_data = pd.read_csv(\"https://raw.githubusercontent.com/pupimvictor/NetworkOfThrones/master/stormofswords.csv\")\n",
        "routes_data = pd.read_csv(\"routes.csv\")\n",
        "\n",
        "G = nx.from_pandas_edgelist(got_data, source = \"Source\", target = \"Target\")\n",
        "R = nx.from_pandas_edgelist(routes_data, source = \"Source\", target = \"Target\", create_using=nx.DiGraph())"
      ],
      "metadata": {
        "id": "avcp3ve--Qx9"
      },
      "execution_count": 83,
      "outputs": []
    }
  ]
}