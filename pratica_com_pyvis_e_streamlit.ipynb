{
  "nbformat": 4,
  "nbformat_minor": 0,
  "metadata": {
    "colab": {
      "provenance": [],
      "collapsed_sections": [
        "5G5eW9VRHdME"
      ]
    },
    "kernelspec": {
      "name": "python3",
      "display_name": "Python 3"
    },
    "language_info": {
      "name": "python"
    }
  },
  "cells": [
    {
      "cell_type": "markdown",
      "source": [
        "# **ANÁLISE DE REDES**\n",
        "## Atividade 01 - Prática com PyVis e Streamlit\n",
        "# **Autores**\n",
        "### José Alex\n",
        "### Fabricio Cruz"
      ],
      "metadata": {
        "id": "exbMqKJ1l-3L"
      }
    }
  ]
}