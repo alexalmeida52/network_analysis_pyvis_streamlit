{
  "cells": [
    {
      "attachments": {},
      "cell_type": "markdown",
      "metadata": {
        "id": "exbMqKJ1l-3L"
      },
      "source": [
        "# **ANÁLISE DE REDES**\n",
        "## Atividade 01 - Prática com PyVis e Streamlit\n",
        "# **Autores**\n",
        "### José Alex\n",
        "### Fabricio Cruz"
      ]
    },
    {
      "attachments": {},
      "cell_type": "markdown",
      "metadata": {
        "id": "5G5eW9VRHdME"
      },
      "source": [
        "## **Instalando pyvis**"
      ]
    },
    {
      "cell_type": "code",
      "execution_count": null,
      "metadata": {
        "id": "Zxny4wIT-Iz1"
      },
      "outputs": [],
      "source": [
        "!pip install pyvis\n",
        "!pip install scipy\n"
      ]
    },
    {
      "attachments": {},
      "cell_type": "markdown",
      "metadata": {},
      "source": [
        "### **Sobre o dataset:** O OpenFlights/Airline Route Mapper Route Database mapeou 59.036 rotas entre 3.209 aeroportos em 531 companhias aéreas em todo o mundo em janeiro de 2012. Segue aqui o link do dataset disponível no Kaggle: <https://www.kaggle.com/datasets/open-flights/flight-route-database>\n",
        "\n",
        "### Os nós são aeroportos nomeados com o código aeroportuário IATA que é uma sigla composta por três letras, utilizada para designar os aeroportos em todo o mundo. É definido pela Associação Internacional de Transportes Aéreos, que tem sede em Toronto, no Canadá. Já as arestas são as conexões entre um aeroporto e outro, representam as linhas aéreas conectando origem e destino de viagens."
      ]
    },
    {
      "attachments": {},
      "cell_type": "markdown",
      "metadata": {
        "id": "rpY8tYDQHwEc"
      },
      "source": [
        "## **Importando bibliotecas e dataset routes R**"
      ]
    },
    {
      "cell_type": "code",
      "execution_count": 7,
      "metadata": {
        "id": "avcp3ve--Qx9"
      },
      "outputs": [],
      "source": [
        "from pyvis.network import Network\n",
        "import networkx as nx\n",
        "import pandas as pd\n",
        "import matplotlib.pyplot as plt\n",
        "import collections\n",
        "\n",
        "got_data = pd.read_csv(\"https://raw.githubusercontent.com/pupimvictor/NetworkOfThrones/master/stormofswords.csv\")\n",
        "routes_data = pd.read_csv(\"assets/routes.csv\")\n",
        "\n",
        "R = nx.from_pandas_edgelist(routes_data, source = \"Source\", target = \"Target\", create_using=nx.DiGraph())"
      ]
    },
    {
      "attachments": {},
      "cell_type": "markdown",
      "metadata": {},
      "source": [
        "### Filtrando o grafo para obter um subgrafo fortemente conectado chamado R_Sub para executar alguns comandos exigidos."
      ]
    },
    {
      "cell_type": "code",
      "execution_count": null,
      "metadata": {},
      "outputs": [],
      "source": [
        "# Check if there is any node left with degree d\n",
        "def check(h, d):\n",
        "    f = 0  # there is no node of deg <= d\n",
        "    for i in h.nodes():\n",
        "        if (h.degree(i) <= d):\n",
        "            f = 1\n",
        "            break\n",
        "    return f\n",
        "\n",
        "\n",
        "# Find list of nodes with particular degree\n",
        "def find_nodes(h, it):\n",
        "    set1 = []\n",
        "    for i in h.nodes():\n",
        "        if (h.degree(i) <= it):\n",
        "            set1.append(i)\n",
        "    return set1\n",
        "\n",
        "\n",
        "def remove_nodes_with_degree_equals(g, degree):\n",
        "    # Copy the graph\n",
        "    h = g.copy()\n",
        "    it = degree\n",
        "\n",
        "    # Bucket being filled currently\n",
        "    tmp = []\n",
        "\n",
        "    # list of lists of buckets\n",
        "    buckets = []\n",
        "    while (1):\n",
        "        flag = check(h, it)\n",
        "        if (flag == 0):\n",
        "            it += 1\n",
        "            buckets.append(tmp)\n",
        "            tmp = []\n",
        "        if (flag == 1):\n",
        "            node_set = find_nodes(h, it)\n",
        "            for each in node_set:\n",
        "                # print(each)\n",
        "                h.remove_node(each)\n",
        "                tmp.append(each)\n",
        "        if (h.number_of_nodes() == 0):\n",
        "            buckets.append(tmp)\n",
        "            break\n",
        "    g.remove_nodes_from(buckets[0])\n",
        "\n",
        "R_Sub = R.copy()\n",
        "print(\"Quantidade de nós inicial {}\".format(len(R_Sub.nodes())))\n",
        "print(\"R_Sub {} fortemente conectado\".format(\"é\" if nx.is_strongly_connected(R_Sub) else \"não é\"))\n",
        "# R_Sub vai ser modificado para perder nós até ficar fortemente conectado\n",
        "remove_nodes_with_degree_equals(R_Sub, 4)\n",
        "print(\"Quantidade de nós final {}\".format(len(R_Sub.nodes())))\n",
        "print(\"R_Sub {} fortemente conectado\".format(\"é\" if nx.is_strongly_connected(R_Sub) else \"não é\"))"
      ]
    },
    {
      "attachments": {},
      "cell_type": "markdown",
      "metadata": {
        "id": "lVJckLa-H6za"
      },
      "source": [
        "## **Exibindo matriz de adjacencia**\n",
        "Devido ao dataset ser muito grande a matriz fica resumida"
      ]
    },
    {
      "cell_type": "code",
      "execution_count": null,
      "metadata": {
        "colab": {
          "base_uri": "https://localhost:8080/"
        },
        "id": "c7d3IRzcJHdT",
        "outputId": "bd29cb98-34b8-4b87-aab9-b7a67b196c0b"
      },
      "outputs": [],
      "source": [
        "print(nx.adjacency_matrix(R).todense())"
      ]
    },
    {
      "attachments": {},
      "cell_type": "markdown",
      "metadata": {
        "id": "ROR9nafeJyUp"
      },
      "source": [
        "## **Diâmetro da rede**"
      ]
    },
    {
      "cell_type": "code",
      "execution_count": null,
      "metadata": {
        "colab": {
          "base_uri": "https://localhost:8080/"
        },
        "id": "lCAHGJS-Jxjl",
        "outputId": "ecc5cb79-80c9-4e61-d35a-b9c3541f8744"
      },
      "outputs": [],
      "source": [
        "print('diameter: ', nx.diameter(R_Sub))\n",
        "print('periphery: ', nx.periphery(R_Sub))"
      ]
    },
    {
      "attachments": {},
      "cell_type": "markdown",
      "metadata": {
        "id": "9PsMHgghKZ5k"
      },
      "source": [
        "## **Histograma de distribuição empírica de grau**"
      ]
    },
    {
      "cell_type": "code",
      "execution_count": null,
      "metadata": {
        "colab": {
          "base_uri": "https://localhost:8080/",
          "height": 489
        },
        "id": "aS2FBrkaKcFv",
        "outputId": "32b70595-7dea-43a3-9a81-f7f1518acb1b"
      },
      "outputs": [],
      "source": [
        "degree_sequence = sorted([d for n, d in G.degree()], reverse=True)  # degree sequence\n",
        "# print \"Degree sequence\", degree_sequence\n",
        "degreeCount = collections.Counter(degree_sequence)\n",
        "deg, cnt = zip(*degreeCount.items())\n",
        "\n",
        "fig, ax = plt.subplots()\n",
        "plt.bar(deg, cnt, width=0.80, color='b')\n",
        "\n",
        "plt.title(\"Degree Histogram\")\n",
        "plt.ylabel(\"Count\")\n",
        "plt.xlabel(\"Degree\")\n",
        "ax.set_xticks([d + 0.4 for d in deg])\n",
        "ax.set_xticklabels(deg)\n",
        "\n",
        "plt.axes([0.4, 0.4, 0.5, 0.5])\n",
        "pos = nx.spring_layout(R_Sub)\n",
        "plt.axis('off')\n",
        "nx.draw_networkx_nodes(R_Sub, pos, node_size=20)\n",
        "nx.draw_networkx_edges(R_Sub, pos, alpha=0.4)"
      ]
    },
    {
      "attachments": {},
      "cell_type": "markdown",
      "metadata": {
        "id": "thyl-GtWKfgz"
      },
      "source": [
        "## **Coeﬁciente de clustering local para nós escolhidos.**"
      ]
    },
    {
      "cell_type": "code",
      "execution_count": null,
      "metadata": {
        "colab": {
          "base_uri": "https://localhost:8080/"
        },
        "id": "V-xz5LMPKhZ1",
        "outputId": "647d3618-c715-4d24-f06e-e174bd495ad6"
      },
      "outputs": [],
      "source": [
        "print('Clusterização')\n",
        "print('Aeroporto Santos Dumont (SDU): ', nx.clustering(R, 'SDU'))\n",
        "print('Aeroporto de Guarulhos (GRU): ', nx.clustering(R, 'GRU'))\n",
        "print('Ambos os nós possuem valores de clusterização baixo que indica que os seus nós adjacentes não se conectam muito entre si.\\n')"
      ]
    },
    {
      "attachments": {},
      "cell_type": "markdown",
      "metadata": {
        "id": "t1As_We1L0Dy"
      },
      "source": [
        "## **Coeﬁciente de clustering global**"
      ]
    },
    {
      "cell_type": "code",
      "execution_count": null,
      "metadata": {
        "colab": {
          "base_uri": "https://localhost:8080/"
        },
        "id": "_-IHACJAL1SD",
        "outputId": "98942247-9b52-4e96-91db-fe04421fe868"
      },
      "outputs": [],
      "source": [
        "print('Clusterização global: ', nx.average_clustering(R))"
      ]
    },
    {
      "attachments": {},
      "cell_type": "markdown",
      "metadata": {
        "id": "x-3Di8nWRdhQ"
      },
      "source": [
        "## **Componentes Conectados Fortemente**"
      ]
    },
    {
      "cell_type": "code",
      "execution_count": null,
      "metadata": {
        "colab": {
          "base_uri": "https://localhost:8080/"
        },
        "id": "R-PJtL6HRjAg",
        "outputId": "8d58f80b-8135-4737-db3a-4c70c8aef33c"
      },
      "outputs": [],
      "source": [
        "print('O grafo R {} fortemente conectado!'.format('é' if nx.is_strongly_connected(R) else 'não é'))\n",
        "print('Quantidade de nós de R: {}'.format(len(R.nodes())))\n",
        "print('Quantidade de componentes fortemente conectados: {}\\n'.format(nx.number_strongly_connected_components(R)))\n",
        "\n",
        "print('O subgrafo R_Sub {} fortemente conectado!'.format('é' if nx.is_strongly_connected(R_Sub) else 'não é'))\n",
        "print('Quantidade de nós de R_Sub: {}'.format(len(R_Sub.nodes())))\n",
        "print('Quantidade de componentes fortemente conectados: {}'.format(nx.number_strongly_connected_components(R_Sub)))"
      ]
    },
    {
      "attachments": {},
      "cell_type": "markdown",
      "metadata": {
        "id": "qMmXL2SlvhxO"
      },
      "source": [
        "## **Componentes Conectados Fracamente.**"
      ]
    },
    {
      "cell_type": "code",
      "execution_count": null,
      "metadata": {
        "colab": {
          "base_uri": "https://localhost:8080/"
        },
        "id": "VZHlobknvl2V",
        "outputId": "8bce9937-b839-47cf-a85c-911f40664010"
      },
      "outputs": [],
      "source": [
        "print('O grafo {} fracamente conectado!'.format('é' if nx.is_weakly_connected(R) else 'não é'))\n",
        "print('Quantidade de nós de R: {}'.format(len(R.nodes())))\n",
        "print('Quantidade de nós fracamente conectados: {}'.format(nx.number_weakly_connected_components(R)))"
      ]
    },
    {
      "attachments": {},
      "cell_type": "markdown",
      "metadata": {
        "id": "CSn7ogv48uQ_"
      },
      "source": [
        "## **Eigenvector centrality**"
      ]
    },
    {
      "cell_type": "code",
      "execution_count": null,
      "metadata": {
        "colab": {
          "base_uri": "https://localhost:8080/"
        },
        "id": "mrxRtwPn81r1",
        "outputId": "0a8f9465-8060-485d-b415-795ee67a274c"
      },
      "outputs": [],
      "source": [
        "print('Grau de centralidade do autovetor: ', nx.eigenvector_centrality(R))"
      ]
    },
    {
      "attachments": {},
      "cell_type": "markdown",
      "metadata": {
        "id": "IoagU3M486Is"
      },
      "source": [
        "## **Degree centrality**"
      ]
    },
    {
      "cell_type": "code",
      "execution_count": null,
      "metadata": {
        "colab": {
          "base_uri": "https://localhost:8080/"
        },
        "id": "gO7A6ygu88ZA",
        "outputId": "29d05df5-c93b-44f6-ce52-b2a3c412d741"
      },
      "outputs": [],
      "source": [
        "print('Grau de centralidade: ', nx.degree_centrality(R))"
      ]
    },
    {
      "attachments": {},
      "cell_type": "markdown",
      "metadata": {
        "id": "4F7Sw_7-88-g"
      },
      "source": [
        "## **Closeness centrality**"
      ]
    },
    {
      "cell_type": "code",
      "execution_count": null,
      "metadata": {
        "colab": {
          "base_uri": "https://localhost:8080/"
        },
        "id": "tl81eQe89Erd",
        "outputId": "e6a37d2e-388f-4a80-9785-348cfc3b1673"
      },
      "outputs": [],
      "source": [
        "print('Grau de centralidade de proximidade: ', nx.closeness_centrality(R))"
      ]
    },
    {
      "attachments": {},
      "cell_type": "markdown",
      "metadata": {
        "id": "oYExkHee9HYa"
      },
      "source": [
        "## **Betweenness centrality**"
      ]
    },
    {
      "cell_type": "code",
      "execution_count": null,
      "metadata": {
        "colab": {
          "base_uri": "https://localhost:8080/"
        },
        "id": "uCA8lONf9Kr6",
        "outputId": "a26e76a2-54cb-40f3-a60c-b3abb7ff5881"
      },
      "outputs": [],
      "source": [
        "print('Grau de centralidade de intermediação do caminho mais curto: ', nx.betweenness_centrality(R))"
      ]
    },
    {
      "attachments": {},
      "cell_type": "markdown",
      "metadata": {
        "id": "D-cFT4ha9K8c"
      },
      "source": [
        "## **Assortatividade geral da rede**"
      ]
    },
    {
      "cell_type": "code",
      "execution_count": null,
      "metadata": {
        "colab": {
          "base_uri": "https://localhost:8080/"
        },
        "id": "_NMa1tiW9L3l",
        "outputId": "5d155602-fdd7-4ed9-ad74-152128820d5f"
      },
      "outputs": [],
      "source": [
        "print('Grau de centralidade de intermediação do caminho mais curto: ', nx.degree_assortativity_coefficient(R))"
      ]
    }
  ],
  "metadata": {
    "colab": {
      "collapsed_sections": [
        "5G5eW9VRHdME"
      ],
      "provenance": []
    },
    "kernelspec": {
      "display_name": "Python 3",
      "name": "python3"
    },
    "language_info": {
      "codemirror_mode": {
        "name": "ipython",
        "version": 3
      },
      "file_extension": ".py",
      "mimetype": "text/x-python",
      "name": "python",
      "nbconvert_exporter": "python",
      "pygments_lexer": "ipython3",
      "version": "3.10.4"
    }
  },
  "nbformat": 4,
  "nbformat_minor": 0
}
