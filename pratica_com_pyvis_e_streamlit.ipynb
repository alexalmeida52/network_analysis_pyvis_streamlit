{
  "nbformat": 4,
  "nbformat_minor": 0,
  "metadata": {
    "colab": {
      "provenance": [],
      "collapsed_sections": [
        "5G5eW9VRHdME"
      ]
    },
    "kernelspec": {
      "name": "python3",
      "display_name": "Python 3"
    },
    "language_info": {
      "name": "python"
    }
  },
  "cells": [
    {
      "cell_type": "markdown",
      "source": [
        "# **ANÁLISE DE REDES**\n",
        "## Atividade 01 - Prática com PyVis e Streamlit\n",
        "# **Autores**\n",
        "### José Alex\n",
        "### Fabricio Cruz"
      ],
      "metadata": {
        "id": "exbMqKJ1l-3L"
      }
    },
    {
      "cell_type": "markdown",
      "source": [
        "## **Instalando pyvis**"
      ],
      "metadata": {
        "id": "5G5eW9VRHdME"
      }
    },
    {
      "cell_type": "code",
      "execution_count": null,
      "metadata": {
        "id": "Zxny4wIT-Iz1"
      },
      "outputs": [],
      "source": [
        "!pip install pyvis"
      ]
    },
    {
      "cell_type": "markdown",
      "source": [
        "## **Importando bibliotecas e dataset**\n",
        "### **Sobre o dataset:** O OpenFlights/Airline Route Mapper Route Database mapeou 59.036 rotas entre 3.209 aeroportos em 531 companhias aéreas em todo o mundo em janeiro de 2012. Segue aqui o link do dataset disponível no Kaggle: <https://www.kaggle.com/datasets/open-flights/flight-route-database>\n",
        "### O nosso dataset não é fortemente conectado. Logo, não conseguimos encontrar valores de diâmetro e periferia. Para explorar essas funções vamos usar o dataset **NetworkOfThrones** que é um grafo não direcionado conectado."
      ],
      "metadata": {
        "id": "rpY8tYDQHwEc"
      }
    },
    {
      "cell_type": "code",
      "source": [
        "from pyvis.network import Network\n",
        "import networkx as nx\n",
        "import pandas as pd\n",
        "from IPython.core.display import display, HTML\n",
        "import scipy as sp\n",
        "import matplotlib.pyplot as plt\n",
        "import collections\n",
        "\n",
        "got_data = pd.read_csv(\"https://raw.githubusercontent.com/pupimvictor/NetworkOfThrones/master/stormofswords.csv\")\n",
        "routes_data = pd.read_csv(\"routes.csv\")\n",
        "\n",
        "G = nx.from_pandas_edgelist(got_data, source = \"Source\", target = \"Target\")\n",
        "R = nx.from_pandas_edgelist(routes_data, source = \"Source\", target = \"Target\", create_using=nx.DiGraph())"
      ],
      "metadata": {
        "id": "avcp3ve--Qx9"
      },
      "execution_count": 83,
      "outputs": []
    },
    {
      "cell_type": "markdown",
      "source": [
        "## **Exibindo matriz de adjacencia**\n",
        "Devido ao dataset ser muito grande a matriz fica resumida"
      ],
      "metadata": {
        "id": "lVJckLa-H6za"
      }
    },
    {
      "cell_type": "code",
      "source": [
        "print(nx.adjacency_matrix(R).todense())"
      ],
      "metadata": {
        "colab": {
          "base_uri": "https://localhost:8080/"
        },
        "id": "c7d3IRzcJHdT",
        "outputId": "bd29cb98-34b8-4b87-aab9-b7a67b196c0b"
      },
      "execution_count": null,
      "outputs": [
        {
          "output_type": "stream",
          "name": "stdout",
          "text": [
            "[[0 1 0 ... 0 0 0]\n",
            " [1 0 1 ... 0 0 0]\n",
            " [0 1 0 ... 0 0 0]\n",
            " ...\n",
            " [0 0 0 ... 0 1 0]\n",
            " [0 0 0 ... 1 0 0]\n",
            " [0 0 0 ... 0 0 0]]\n"
          ]
        }
      ]
    },
    {
      "cell_type": "markdown",
      "source": [
        "## **Diametro da rede**"
      ],
      "metadata": {
        "id": "ROR9nafeJyUp"
      }
    },
    {
      "cell_type": "code",
      "source": [
        "print('diameter: ', nx.diameter(G))\n",
        "print('periphery: ', nx.periphery(G))"
      ],
      "metadata": {
        "colab": {
          "base_uri": "https://localhost:8080/"
        },
        "id": "lCAHGJS-Jxjl",
        "outputId": "ecc5cb79-80c9-4e61-d35a-b9c3541f8744"
      },
      "execution_count": null,
      "outputs": [
        {
          "output_type": "stream",
          "name": "stdout",
          "text": [
            "diameter:  6\n",
            "periphery:  ['Amory', 'Illyrio', 'Jojen', 'Luwin', 'Nan', 'Karl', 'Cressen', 'Salladhor', 'Bowen', 'Lancel', 'Shireen']\n"
          ]
        }
      ]
    }
  ]
}
